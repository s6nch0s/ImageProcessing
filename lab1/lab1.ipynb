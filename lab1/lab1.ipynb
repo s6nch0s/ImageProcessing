{
 "cells": [
  {
   "cell_type": "code",
   "execution_count": 3,
   "metadata": {
    "collapsed": true
   },
   "outputs": [],
   "source": [
    "import numpy as np\n",
    "import cv2\n",
    "from scipy.ndimage import convolve"
   ]
  },
  {
   "cell_type": "code",
   "execution_count": 12,
   "outputs": [],
   "source": [
    "def canny_detector(img, highThresholdRatio=0.15, lowThresholdRatio=0.05, sigma=1.4):\n",
    "    \"\"\"convert image to grayscale\"\"\"\n",
    "    img = cv2.cvtColor(img, cv2.COLOR_BGR2GRAY)\n",
    "\n",
    "    \"\"\"Noise reduction\"\"\"\n",
    "    img = cv2.GaussianBlur(img, (5, 5), sigma)\n",
    "\n",
    "    \"\"\"Calculate the gradients\"\"\"\n",
    "    sobel_kx = np.array([[-1, 0, 1],\n",
    "                         [-2, 0, 2],\n",
    "                         [-1, 0, 1]], np.float32)\n",
    "    sobel_ky = np.array([[1, 2, 1],\n",
    "                         [0, 0, 0],\n",
    "                         [-1, -2, -1]], np.float32)\n",
    "\n",
    "    gx = cv2.filter2D(img, -1, sobel_kx)\n",
    "    gy = cv2.filter2D(img, -1, sobel_ky)\n",
    "\n",
    "    \"\"\"Calculate magnitude and angle\"\"\"\n",
    "    g = np.power((gx**2 + gy**2), 1/2)\n",
    "    theta = np.arctan(gy/gx)\n",
    "\n",
    "    \"\"\"Non-maximum supression\"\"\"\n",
    "    M, N = g.shape\n",
    "    Z = np.zeros((M,N), dtype=np.int32)\n",
    "    angle = theta * 180. / np.pi\n",
    "    angle[angle < 0] += 180\n",
    "\n",
    "\n",
    "    for i in range(1, M-1):\n",
    "        for j in range(1, N-1):\n",
    "            q = 255\n",
    "            r = 255\n",
    "            #angle 0\n",
    "            if 0 <= angle[i,j] < 22.5 or 157.5 <= angle[i,j] <= 180:\n",
    "                q = g[i, j+1]\n",
    "                r = g[i, j-1]\n",
    "            #angle 45\n",
    "            elif 22.5 <= angle[i, j] < 67.5:\n",
    "                q = g[i+1, j-1]\n",
    "                r = g[i-1, j+1]\n",
    "            #angle 90\n",
    "            elif 67.5 <= angle[i, j] < 112.5:\n",
    "                q = g[i+1, j]\n",
    "                r = g[i-1, j]\n",
    "            #angle 135\n",
    "            elif 112.5 <= angle[i, j] < 157.5:\n",
    "                q = img[i-1, j-1]\n",
    "                r = img[i+1, j+1]\n",
    "            if g[i,j] >= q and g[i, j] >= r:\n",
    "                Z[i, j] = g[i, j]\n",
    "            else:\n",
    "                Z[i, j] = 0\n",
    "\n",
    "        \"\"\"Threshold\"\"\"\n",
    "        highThreshold = img.max() * highThresholdRatio\n",
    "        lowThreshold = highThreshold * lowThresholdRatio"
   ],
   "metadata": {
    "collapsed": false,
    "pycharm": {
     "name": "#%%\n"
    }
   }
  },
  {
   "cell_type": "code",
   "execution_count": 13,
   "outputs": [
    {
     "name": "stdout",
     "output_type": "stream",
     "text": [
      "[[-1.  0.  1.]\n",
      " [-2.  0.  2.]\n",
      " [-1.  0.  1.]]\n",
      "[[0 0 0 ... 0 0 0]\n",
      " [0 0 0 ... 0 0 0]\n",
      " [0 0 0 ... 0 0 0]\n",
      " ...\n",
      " [0 0 0 ... 0 0 0]\n",
      " [0 0 0 ... 0 0 0]\n",
      " [0 0 0 ... 0 0 0]]\n",
      "square - 10.0\n"
     ]
    },
    {
     "name": "stderr",
     "output_type": "stream",
     "text": [
      "C:\\Users\\Asus\\AppData\\Local\\Temp\\ipykernel_97868\\841634565.py:21: RuntimeWarning: divide by zero encountered in true_divide\n",
      "  theta = np.arctan(gy/gx)\n",
      "C:\\Users\\Asus\\AppData\\Local\\Temp\\ipykernel_97868\\841634565.py:21: RuntimeWarning: invalid value encountered in true_divide\n",
      "  theta = np.arctan(gy/gx)\n"
     ]
    }
   ],
   "source": [
    "image = cv2.imread('2.jpg')\n",
    "canny_img = canny_detector(image)"
   ],
   "metadata": {
    "collapsed": false,
    "pycharm": {
     "name": "#%%\n"
    }
   }
  }
 ],
 "metadata": {
  "kernelspec": {
   "display_name": "Python 3",
   "language": "python",
   "name": "python3"
  },
  "language_info": {
   "codemirror_mode": {
    "name": "ipython",
    "version": 2
   },
   "file_extension": ".py",
   "mimetype": "text/x-python",
   "name": "python",
   "nbconvert_exporter": "python",
   "pygments_lexer": "ipython2",
   "version": "2.7.6"
  }
 },
 "nbformat": 4,
 "nbformat_minor": 0
}